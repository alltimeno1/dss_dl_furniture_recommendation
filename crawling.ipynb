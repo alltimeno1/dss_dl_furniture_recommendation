{
 "metadata": {
  "language_info": {
   "codemirror_mode": {
    "name": "ipython",
    "version": 3
   },
   "file_extension": ".py",
   "mimetype": "text/x-python",
   "name": "python",
   "nbconvert_exporter": "python",
   "pygments_lexer": "ipython3",
   "version": "3.8.3-final"
  },
  "orig_nbformat": 2,
  "kernelspec": {
   "name": "python3",
   "display_name": "Python 3",
   "language": "python"
  }
 },
 "nbformat": 4,
 "nbformat_minor": 2,
 "cells": [
  {
   "cell_type": "code",
   "execution_count": 1,
   "metadata": {},
   "outputs": [],
   "source": [
    "import scrapy\n",
    "import requests\n",
    "from scrapy.http import TextResponse"
   ]
  },
  {
   "cell_type": "code",
   "execution_count": 2,
   "metadata": {},
   "outputs": [
    {
     "output_type": "stream",
     "name": "stderr",
     "text": [
      "'rm'��(��) ���� �Ǵ� �ܺ� ����, ������ �� �ִ� ���α׷�, �Ǵ�\n",
      "��ġ ������ �ƴմϴ�.\n",
      "New Scrapy project 'webtoon', using template directory 'C:\\Users\\scni0\\Anaconda3\\lib\\site-packages\\scrapy\\templates\\project', created in:\n",
      "    c:\\Code\\project\\deep learning\\webtoon\n",
      "\n",
      "You can start your first spider with:\n",
      "    cd webtoon\n",
      "    scrapy genspider example example.com\n"
     ]
    }
   ],
   "source": [
    "!rm -rf webtoon\n",
    "!scrapy startproject webtoon"
   ]
  },
  {
   "cell_type": "code",
   "execution_count": null,
   "metadata": {},
   "outputs": [],
   "source": [
    "%%writefile playnomore/playnomore/items.py\n",
    "import scrapy\n",
    "\n",
    "class WebtoonItem(scrapy.Item):\n",
    "    title = scrapy.Field()\n",
    "    writer = scrapy.Field()\n",
    "    desc = scrapy.Field()\n",
    "    genre = scrapy.Field()\n",
    "    like = scrapy.Field()\n",
    "    link = scrapy.Field()"
   ]
  },
  {
   "cell_type": "code",
   "execution_count": 3,
   "metadata": {},
   "outputs": [
    {
     "output_type": "execute_result",
     "data": {
      "text/plain": [
       "<200 https://comic.naver.com/webtoon/weekday.nhn>"
      ]
     },
     "metadata": {},
     "execution_count": 3
    }
   ],
   "source": [
    "from fake_useragent import UserAgent\n",
    "\n",
    "url = \"https://comic.naver.com/webtoon/weekday.nhn\"\n",
    "# headers = { \"User-Agent\": UserAgent().chrome }\n",
    "headers = { \"User-Agent\": \"Mozilla/5.0 (Macintosh; Intel Mac OS X 10_15_1) AppleWebKit/537.36 (KHTML, like Gecko) Chrome/78.0.3904.108 Safari/537.36\" }\n",
    "req = requests.get(url, headers=headers)\n",
    "response = TextResponse(req.url, body=req.text, encoding=\"utf-8\") \n",
    "response"
   ]
  },
  {
   "cell_type": "code",
   "execution_count": 26,
   "metadata": {},
   "outputs": [],
   "source": [
    "links = response.xpath(\n",
    "    '//*[@id=\"content\"]/div[4]/div[1]/div/ul/li/div/a/@href'\n",
    ").extract()\n",
    "links = list(map(response.urljoin, links))"
   ]
  },
  {
   "cell_type": "code",
   "execution_count": 56,
   "metadata": {},
   "outputs": [
    {
     "output_type": "execute_result",
     "data": {
      "text/plain": [
       "<200 https://comic.naver.com/webtoon/list.nhn?titleId=758037&weekday=mon>"
      ]
     },
     "metadata": {},
     "execution_count": 56
    }
   ],
   "source": [
    "url = links[0]\n",
    "headers = { \"User-Agent\": \"Mozilla/5.0 (Macintosh; Intel Mac OS X 10_15_1) AppleWebKit/537.36 (KHTML, like Gecko) Chrome/78.0.3904.108 Safari/537.36\" }\n",
    "req = requests.get(url, headers=headers)\n",
    "response = TextResponse(req.url, body=req.text, encoding=\"utf-8\") \n",
    "response"
   ]
  },
  {
   "cell_type": "code",
   "execution_count": 57,
   "metadata": {},
   "outputs": [
    {
     "output_type": "execute_result",
     "data": {
      "text/plain": [
       "('참교육',\n",
       " '채용택 / 한가람',\n",
       " ['무너진 교권을 지키기 위해 교권보호국 소속 나화진의 참교육이 시작된다!', ' 채용택 작가 X  한가람 작가의 신작!'],\n",
       " ['스토리, 액션'],\n",
       " [])"
      ]
     },
     "metadata": {},
     "execution_count": 57
    }
   ],
   "source": [
    "title = response.xpath(\n",
    "        '//*[@id=\"content\"]/div[1]/div[2]/h2/text()'\n",
    "    ).extract()[0]\n",
    "title = title.strip()\n",
    "writer = response.xpath(\n",
    "        '//*[@id=\"content\"]/div[1]/div[2]/h2/span/text()'\n",
    "    ).extract()[0]\n",
    "writer =  writer.strip()    \n",
    "desc = response.xpath(\n",
    "        '//*[@id=\"content\"]/div[1]/div[2]/p[1]/text()'\n",
    "    ).extract()\n",
    "genre = response.xpath(\n",
    "        '//*[@id=\"content\"]/div[1]/div[2]/p[2]/span[1]/text()'\n",
    "    ).extract()\n",
    "like = response.xpath(\n",
    "        '//*[@id=\"content\"]/div[1]/div[2]/ul/li[5]/div/a/em/text()'\n",
    "    ).extract()    \n",
    "title, writer, desc, genre, like"
   ]
  },
  {
   "cell_type": "code",
   "execution_count": 63,
   "metadata": {},
   "outputs": [
    {
     "output_type": "execute_result",
     "data": {
      "text/plain": [
       "[]"
      ]
     },
     "metadata": {},
     "execution_count": 63
    }
   ],
   "source": [
    "response.xpath(\n",
    "        '//*[@id=\"content\"]/div[1]/div[2]/ul/li[5]/div/a/em'\n",
    "    ).extract()"
   ]
  },
  {
   "cell_type": "code",
   "execution_count": null,
   "metadata": {},
   "outputs": [],
   "source": []
  },
  {
   "cell_type": "code",
   "execution_count": null,
   "metadata": {},
   "outputs": [],
   "source": []
  },
  {
   "cell_type": "code",
   "execution_count": null,
   "metadata": {},
   "outputs": [],
   "source": []
  },
  {
   "cell_type": "code",
   "execution_count": null,
   "metadata": {},
   "outputs": [],
   "source": []
  },
  {
   "cell_type": "code",
   "execution_count": null,
   "metadata": {},
   "outputs": [],
   "source": []
  },
  {
   "cell_type": "code",
   "execution_count": null,
   "metadata": {},
   "outputs": [],
   "source": []
  },
  {
   "cell_type": "code",
   "execution_count": null,
   "metadata": {},
   "outputs": [],
   "source": []
  },
  {
   "cell_type": "code",
   "execution_count": null,
   "metadata": {},
   "outputs": [],
   "source": []
  },
  {
   "cell_type": "code",
   "execution_count": null,
   "metadata": {},
   "outputs": [],
   "source": []
  },
  {
   "cell_type": "code",
   "execution_count": null,
   "metadata": {},
   "outputs": [],
   "source": []
  },
  {
   "cell_type": "code",
   "execution_count": null,
   "metadata": {},
   "outputs": [],
   "source": []
  },
  {
   "cell_type": "code",
   "execution_count": null,
   "metadata": {},
   "outputs": [],
   "source": []
  },
  {
   "cell_type": "code",
   "execution_count": null,
   "metadata": {},
   "outputs": [],
   "source": []
  },
  {
   "cell_type": "code",
   "execution_count": null,
   "metadata": {},
   "outputs": [],
   "source": []
  },
  {
   "cell_type": "code",
   "execution_count": null,
   "metadata": {},
   "outputs": [],
   "source": []
  },
  {
   "cell_type": "code",
   "execution_count": null,
   "metadata": {},
   "outputs": [],
   "source": []
  },
  {
   "cell_type": "code",
   "execution_count": null,
   "metadata": {},
   "outputs": [],
   "source": []
  },
  {
   "cell_type": "code",
   "execution_count": null,
   "metadata": {},
   "outputs": [],
   "source": []
  },
  {
   "cell_type": "code",
   "execution_count": null,
   "metadata": {},
   "outputs": [],
   "source": []
  },
  {
   "cell_type": "code",
   "execution_count": null,
   "metadata": {},
   "outputs": [],
   "source": []
  },
  {
   "cell_type": "code",
   "execution_count": null,
   "metadata": {},
   "outputs": [],
   "source": []
  }
 ]
}